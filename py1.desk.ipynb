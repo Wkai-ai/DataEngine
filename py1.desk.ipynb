{
 "cells": [
  {
   "cell_type": "markdown",
   "metadata": {},
   "source": [
    "Action1：求2+4+6+8+...+100的求和"
   ]
  },
  {
   "cell_type": "code",
   "execution_count": 1,
   "metadata": {},
   "outputs": [
    {
     "data": {
      "text/plain": [
       "2550"
      ]
     },
     "execution_count": 1,
     "metadata": {},
     "output_type": "execute_result"
    }
   ],
   "source": [
    "sum(range(2,101,2))"
   ]
  },
  {
   "cell_type": "markdown",
   "metadata": {},
   "source": [
    "Action2: 统计全班的成绩\n",
    "班里有5名同学，现在需要你用Python来统计下这些人在语文、英语、数学中的平均成绩、最小成绩、最大成绩、方差、标准差。然后把这些人的总成绩排序，得出名次进行成绩输出（可以用numpy或pandas）"
   ]
  },
  {
   "cell_type": "code",
   "execution_count": 30,
   "metadata": {},
   "outputs": [
    {
     "name": "stdout",
     "output_type": "stream",
     "text": [
      "chinese_average:86.2 math_average:81.0 english_average:76.6\n",
      "chinese_min:68 math_min:65 english_min:30\n",
      "chinese_max:98 math_max:90 english_max:98\n",
      "chinese_variance:120.16 math_variance:87.2 englise_variance:587.8399999999999\n",
      "chinese_std:10.961751684835777 math_std:9.338094023943002 englise_std:24.24541193710678\n",
      "[163 255 260 269 272]\n"
     ]
    }
   ],
   "source": [
    "import numpy as np\n",
    "persontype=np.dtype({'names':['name','chinese','math','english'],\n",
    "                    'formats':['S32','i','i','i']})\n",
    "peoples=np.array([(\"ZhangFei\",68,65,30),(\"GuanYu\",95,76,98),(\"LiuBei\",98,86,88),(\"DianWei\",90,88,77),(\"XuChu\",80,90,90)],dtype=persontype)\n",
    "chineses=peoples['chinese']\n",
    "maths=peoples['math']\n",
    "englishs=peoples['english']\n",
    "score=chineses+maths+englishs\n",
    "print('chinese_average:%s'%np.mean(chineses),'math_average:%s'%np.mean(maths),'english_average:%s'%np.mean(englishs))\n",
    "print('chinese_min:%s'%np.min(chineses),'math_min:%s'%np.min(maths),'english_min:%s'%np.min(englishs))\n",
    "print('chinese_max:%s'%np.max(chineses),'math_max:%s'%np.max(maths),'english_max:%s'%np.max(englishs))\n",
    "print('chinese_variance:%s'%np.var(chineses),'math_variance:%s'%np.var(maths),'englise_variance:%s'%np.var(englishs))\n",
    "print('chinese_std:%s'%np.std(chineses),'math_std:%s'%np.std(maths),'englise_std:%s'%np.std(englishs))\n",
    "print(np.sort(chineses+maths+englishs))"
   ]
  }
 ],
 "metadata": {
  "kernelspec": {
   "display_name": "Python 3",
   "language": "python",
   "name": "python3"
  },
  "language_info": {
   "codemirror_mode": {
    "name": "ipython",
    "version": 3
   },
   "file_extension": ".py",
   "mimetype": "text/x-python",
   "name": "python",
   "nbconvert_exporter": "python",
   "pygments_lexer": "ipython3",
   "version": "3.7.6"
  }
 },
 "nbformat": 4,
 "nbformat_minor": 4
}
